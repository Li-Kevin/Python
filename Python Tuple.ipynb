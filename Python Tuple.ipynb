{
 "metadata": {
  "name": "",
  "signature": "sha256:96e344f4b71559cf8d6234b7dc589388a2495632a8c1b9cbdcd95cb96b06fd5d"
 },
 "nbformat": 3,
 "nbformat_minor": 0,
 "worksheets": [
  {
   "cells": [
    {
     "cell_type": "code",
     "collapsed": false,
     "input": [
      "###  Tuple  ###\n",
      "\n",
      "# values in tuple can't be revised, and occupies certain size in memory\n",
      "\n",
      "# methods to build tuples\n",
      "tuple1 = (1,2,3)\n",
      "tuple2 = 1,2,3\n",
      "tuple3 = tuple([1,2,3])\n",
      "print tuple1\n",
      "print tuple2\n",
      "print tuple3\n",
      "\n",
      "# differences between tuple & list\n",
      "dir_tuple = dir(tuple)\n",
      "dir_list = dir(list)\n",
      "print\n",
      "print dir_tuple\n",
      "print\n",
      "print dir_list"
     ],
     "language": "python",
     "metadata": {},
     "outputs": [
      {
       "output_type": "stream",
       "stream": "stdout",
       "text": [
        "(1, 2, 3)\n",
        "(1, 2, 3)\n",
        "(1, 2, 3)\n",
        "\n",
        "['__add__', '__class__', '__contains__', '__delattr__', '__doc__', '__eq__', '__format__', '__ge__', '__getattribute__', '__getitem__', '__getnewargs__', '__getslice__', '__gt__', '__hash__', '__init__', '__iter__', '__le__', '__len__', '__lt__', '__mul__', '__ne__', '__new__', '__reduce__', '__reduce_ex__', '__repr__', '__rmul__', '__setattr__', '__sizeof__', '__str__', '__subclasshook__', 'count', 'index']\n",
        "\n",
        "['__add__', '__class__', '__contains__', '__delattr__', '__delitem__', '__delslice__', '__doc__', '__eq__', '__format__', '__ge__', '__getattribute__', '__getitem__', '__getslice__', '__gt__', '__hash__', '__iadd__', '__imul__', '__init__', '__iter__', '__le__', '__len__', '__lt__', '__mul__', '__ne__', '__new__', '__reduce__', '__reduce_ex__', '__repr__', '__reversed__', '__rmul__', '__setattr__', '__setitem__', '__setslice__', '__sizeof__', '__str__', '__subclasshook__', 'append', 'count', 'extend', 'index', 'insert', 'pop', 'remove', 'reverse', 'sort']\n"
       ]
      }
     ],
     "prompt_number": 6
    },
    {
     "cell_type": "code",
     "collapsed": false,
     "input": [
      "###  Packing & Unpacking  ###\n",
      "a,b = 1,2\n",
      "1\n",
      "\n",
      "a,b = 1,2\n",
      "a\n",
      "b\n",
      "\n",
      "c = a,b\n",
      "c\n",
      "\n",
      "d = 1,2\n",
      "c == d"
     ],
     "language": "python",
     "metadata": {},
     "outputs": [
      {
       "metadata": {},
       "output_type": "pyout",
       "prompt_number": 10,
       "text": [
        "(1, 2)"
       ]
      }
     ],
     "prompt_number": 10
    },
    {
     "cell_type": "code",
     "collapsed": false,
     "input": [
      "###  Delete Variables  ###\n",
      "a,b = 1,2\n",
      "del a\n",
      "\n",
      "print a"
     ],
     "language": "python",
     "metadata": {},
     "outputs": [
      {
       "ename": "NameError",
       "evalue": "name 'a' is not defined",
       "output_type": "pyerr",
       "traceback": [
        "\u001b[1;31m---------------------------------------------------------------------------\u001b[0m\n\u001b[1;31mNameError\u001b[0m                                 Traceback (most recent call last)",
        "\u001b[1;32m<ipython-input-12-72298aba1ab3>\u001b[0m in \u001b[0;36m<module>\u001b[1;34m()\u001b[0m\n\u001b[0;32m      3\u001b[0m \u001b[1;32mdel\u001b[0m \u001b[0ma\u001b[0m\u001b[1;33m\u001b[0m\u001b[0m\n\u001b[0;32m      4\u001b[0m \u001b[1;33m\u001b[0m\u001b[0m\n\u001b[1;32m----> 5\u001b[1;33m \u001b[1;32mprint\u001b[0m \u001b[0ma\u001b[0m\u001b[1;33m\u001b[0m\u001b[0m\n\u001b[0m",
        "\u001b[1;31mNameError\u001b[0m: name 'a' is not defined"
       ]
      }
     ],
     "prompt_number": 12
    },
    {
     "cell_type": "code",
     "collapsed": false,
     "input": [
      "###  Exchange a,b Elements  ###\n",
      "a,b = 1,2\n",
      "c = a # concept of assignment\n",
      "a = b\n",
      "b = c \n",
      "del c\n",
      "print a,b"
     ],
     "language": "python",
     "metadata": {},
     "outputs": [
      {
       "output_type": "stream",
       "stream": "stdout",
       "text": [
        "2 1\n"
       ]
      }
     ],
     "prompt_number": 13
    },
    {
     "cell_type": "code",
     "collapsed": false,
     "input": [
      "###  Exchange a,b Elements using tuple ###\n",
      "a,b = 1,2\n",
      "print a,b\n",
      "a,b = b,a # exchange varriables\n",
      "print a,b"
     ],
     "language": "python",
     "metadata": {},
     "outputs": [
      {
       "output_type": "stream",
       "stream": "stdout",
       "text": [
        "1 2\n",
        "2 1\n"
       ]
      }
     ],
     "prompt_number": 15
    },
    {
     "cell_type": "code",
     "collapsed": false,
     "input": [
      "###  Functions VS. Tuples 1  ###\n",
      "def func():\n",
      "    return 1,2,3\n",
      "x,y,z = 1,2,3\n",
      "x"
     ],
     "language": "python",
     "metadata": {},
     "outputs": [
      {
       "metadata": {},
       "output_type": "pyout",
       "prompt_number": 19,
       "text": [
        "1"
       ]
      }
     ],
     "prompt_number": 19
    },
    {
     "cell_type": "code",
     "collapsed": false,
     "input": [
      "###  Functions VS. Tuples 2  ###\n",
      "li_1 = list('abc')\n",
      "cnt = 0\n",
      "for item in li_1:\n",
      "    print cnt, item\n",
      "    cnt += 1\n",
      "\n",
      "print    \n",
      "    \n",
      "li_2 = list('acb')\n",
      "for x, y in enumerate(li_2):\n",
      "    print x, y\n",
      "\n",
      "print    \n",
      "    \n",
      "li_3 = ('abc')\n",
      "for k in enumarate(li_3):\n",
      "    print\"{}{}\".format(*k)"
     ],
     "language": "python",
     "metadata": {},
     "outputs": [
      {
       "output_type": "stream",
       "stream": "stdout",
       "text": [
        "0 a\n",
        "1 b\n",
        "2 c\n",
        "0 a\n",
        "1 b\n",
        "2 c\n"
       ]
      }
     ],
     "prompt_number": 21
    },
    {
     "cell_type": "code",
     "collapsed": false,
     "input": [],
     "language": "python",
     "metadata": {},
     "outputs": []
    }
   ],
   "metadata": {}
  }
 ]
}
